{
 "cells": [
  {
   "cell_type": "code",
   "execution_count": 3,
   "id": "8d3dd749",
   "metadata": {},
   "outputs": [
    {
     "ename": "ModuleNotFoundError",
     "evalue": "No module named 'kivy'",
     "output_type": "error",
     "traceback": [
      "\u001b[31m---------------------------------------------------------------------------\u001b[39m",
      "\u001b[31mModuleNotFoundError\u001b[39m                       Traceback (most recent call last)",
      "\u001b[36mCell\u001b[39m\u001b[36m \u001b[39m\u001b[32mIn[3]\u001b[39m\u001b[32m, line 1\u001b[39m\n\u001b[32m----> \u001b[39m\u001b[32m1\u001b[39m \u001b[38;5;28;01mfrom\u001b[39;00m\u001b[38;5;250m \u001b[39m\u001b[34;01mkivy\u001b[39;00m\u001b[34;01m.\u001b[39;00m\u001b[34;01mlang\u001b[39;00m\u001b[38;5;250m \u001b[39m\u001b[38;5;28;01mimport\u001b[39;00m Builder\n\u001b[32m      2\u001b[39m \u001b[38;5;28;01mfrom\u001b[39;00m\u001b[38;5;250m \u001b[39m\u001b[34;01mkivymd\u001b[39;00m\u001b[34;01m.\u001b[39;00m\u001b[34;01mapp\u001b[39;00m\u001b[38;5;250m \u001b[39m\u001b[38;5;28;01mimport\u001b[39;00m MDApp\n\u001b[32m      3\u001b[39m \u001b[38;5;28;01mimport\u001b[39;00m\u001b[38;5;250m \u001b[39m\u001b[34;01mdatetime\u001b[39;00m\n",
      "\u001b[31mModuleNotFoundError\u001b[39m: No module named 'kivy'"
     ]
    }
   ],
   "source": [
    "from kivy.lang import Builder\n",
    "from kivymd.app import MDApp\n",
    "import datetime\n",
    "\n",
    "KV = '''\n",
    "BoxLayout:\n",
    "    orientation: 'vertical'\n",
    "    MDToolbar:\n",
    "        title: \"Fridge & Pantry Tracker\"\n",
    "    MDRaisedButton:\n",
    "        text: \"Scan Item (Photo)\"\n",
    "        on_release: app.scan_item()\n",
    "    MDRaisedButton:\n",
    "        text: \"Show Inventory\"\n",
    "        on_release: app.show_inventory()\n",
    "    MDRaisedButton:\n",
    "        text: \"Suggest Recipe\"\n",
    "        on_release: app.suggest_recipe()\n",
    "    MDRaisedButton:\n",
    "        text: \"Check Expiry\"\n",
    "        on_release: app.check_expiry()\n",
    "    MDLabel:\n",
    "        id: output_label\n",
    "        text: \"\"\n",
    "        halign: \"center\"\n",
    "'''\n",
    "\n",
    "class PantryApp(MDApp):\n",
    "    def build(self):\n",
    "        self.inventory = []  # Stores items as dicts with fields: name, date, image_path\n",
    "        return Builder.load_string(KV)\n",
    "\n",
    "    def scan_item(self):\n",
    "        # This function would launch camera and use image recognition\n",
    "        # For demo, just simulate scan result\n",
    "        item_name = \"Milk\"\n",
    "        expiry = datetime.date.today() + datetime.timedelta(days=5)\n",
    "        self.inventory.append({'name': item_name, 'expiry': expiry, 'image_path': 'milk.jpg'})\n",
    "        self.root.ids.output_label.text = f\"Scanned: {item_name} exp {expiry}\"\n",
    "\n",
    "    def show_inventory(self):\n",
    "        items = [f\"{item['name']} (exp {item['expiry']})\" for item in self.inventory]\n",
    "        self.root.ids.output_label.text = \"Inventory:\\n\" + \"\\n\".join(items)\n",
    "\n",
    "    def suggest_recipe(self):\n",
    "        # For demo, basic logic—real app calls external AI API w/ self.inventory\n",
    "        if any(item['name'] == 'Milk' for item in self.inventory):\n",
    "            self.root.ids.output_label.text = \"Recipe: Use your milk for pancakes!\"\n",
    "        else:\n",
    "            self.root.ids.output_label.text = \"No matching recipes found.\"\n",
    "\n",
    "    def check_expiry(self):\n",
    "        today = datetime.date.today()\n",
    "        soon = [item['name'] for item in self.inventory if (item['expiry']-today).days < 2]\n",
    "        if soon:\n",
    "            self.root.ids.output_label.text = f\"Expiring soon: {', '.join(soon)}\"\n",
    "        else:\n",
    "            self.root.ids.output_label.text = \"All items OK\"\n",
    "\n",
    "if __name__ == '__main__':\n",
    "    PantryApp().run()"
   ]
  }
 ],
 "metadata": {
  "kernelspec": {
   "display_name": ".venv",
   "language": "python",
   "name": "python3"
  },
  "language_info": {
   "codemirror_mode": {
    "name": "ipython",
    "version": 3
   },
   "file_extension": ".py",
   "mimetype": "text/x-python",
   "name": "python",
   "nbconvert_exporter": "python",
   "pygments_lexer": "ipython3",
   "version": "3.13.7"
  }
 },
 "nbformat": 4,
 "nbformat_minor": 5
}
